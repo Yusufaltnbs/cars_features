{
 "cells": [
  {
   "cell_type": "code",
   "execution_count": 1,
   "id": "8f7a640f-74b4-439a-819b-376eaa7ff980",
   "metadata": {},
   "outputs": [],
   "source": [
    "#https://www.arabam.com/ikinci-el/otomobil"
   ]
  },
  {
   "cell_type": "code",
   "execution_count": 3,
   "id": "85d772e8-7374-41d0-8f13-8e34e8e6a40f",
   "metadata": {},
   "outputs": [],
   "source": [
    "import requests\n",
    "from bs4 import BeautifulSoup"
   ]
  },
  {
   "cell_type": "code",
   "execution_count": 61,
   "id": "b400d43c-031f-4f4f-a6df-1cd5765cf197",
   "metadata": {},
   "outputs": [],
   "source": [
    "url=\"https://www.arabam.com/ikinci-el/otomobil\"\n",
    "r= requests.get(url)\n",
    "soup = BeautifulSoup(r.content,\"lxml\")\n",
    "arabalar=soup.find_all(\"td\",attrs={\"class\":\"listing-modelname pr\"})"
   ]
  },
  {
   "cell_type": "code",
   "execution_count": 95,
   "id": "64a803ba-35f4-48bd-b1dc-8f8fec088dcc",
   "metadata": {},
   "outputs": [
    {
     "data": {
      "text/plain": [
       "[<td class=\"listing-modelname pr\">\n",
       " <h3 class=\"crop-after\">\n",
       " <div class=\"listing-text-new word-break val-middle color-black2018\">Renault Megane 1.5 dCi Icon</div>\n",
       " </h3>\n",
       " <div class=\"item-overlay overlay-28201108\"></div>\n",
       " <a class=\"link-overlay\" href=\"/ilan/galeriden-satilik-renault-megane-1-5-dci-icon/renault-megane-dizel-otomatik-icon-masajli/28201108\" onclick=\"dataLayerClick('1' , '0')\" target=\"_self\"></a>\n",
       " </td>,\n",
       " <td class=\"listing-modelname pr\">\n",
       " <h3 class=\"crop-after\">\n",
       " <div class=\"listing-text-new word-break val-middle color-black2018\">Kia Ceed 1.6 CRDi Premium</div>\n",
       " </h3>\n",
       " <div class=\"item-overlay overlay-28091598\"></div>\n",
       " <a class=\"link-overlay\" href=\"/ilan/galeriden-satilik-kia-ceed-1-6-crdi-premium/2013-kia-ceed-1-6-crdi-premium/28091598\" onclick=\"dataLayerClick('2' , '1')\" target=\"_self\"></a>\n",
       " </td>,\n",
       " <td class=\"listing-modelname pr\">\n",
       " <h3 class=\"crop-after\">\n",
       " <div class=\"listing-text-new word-break val-middle color-black2018\">Fiat Egea 1.6 E-Torq Urban</div>\n",
       " </h3>\n",
       " <div class=\"item-overlay overlay-28091595\"></div>\n",
       " <a class=\"link-overlay\" href=\"/ilan/galeriden-satilik-fiat-egea-1-6-e-torq-urban/2019-fiat-egea-1-6-e-troq-urban/28091595\" onclick=\"dataLayerClick('3' , '2')\" target=\"_self\"></a>\n",
       " </td>,\n",
       " <td class=\"listing-modelname pr\">\n",
       " <h3 class=\"crop-after\">\n",
       " <div class=\"listing-text-new word-break val-middle color-black2018\">Ford Mondeo 1.6 TDCi Style</div>\n",
       " </h3>\n",
       " <div class=\"item-overlay overlay-28200882\"></div>\n",
       " <a class=\"link-overlay\" href=\"/ilan/galeriden-satilik-ford-mondeo-1-6-tdci-style/nazar-dan-2016-ford-mondeo-1-6-tdci-style-servis-bakmli-boyasiz/28200882\" onclick=\"dataLayerClick('4' , '3')\" target=\"_self\"></a>\n",
       " </td>,\n",
       " <td class=\"listing-modelname pr\">\n",
       " <h3 class=\"crop-after\">\n",
       " <div class=\"listing-text-new word-break val-middle color-red4\">Opel Astra 1.3 CDTI Cosmo</div>\n",
       " </h3>\n",
       " <div class=\"item-overlay overlay-27960567\"></div>\n",
       " <a class=\"link-overlay\" href=\"/ilan/galeriden-satilik-opel-astra-1-3-cdti-cosmo/orhan-gazi-den-2011-jkasa-degisensiz-sunroof-astra-1-3cdti-temiz/27960567\" onclick=\"dataLayerClick('5' , '4')\" target=\"_self\"></a>\n",
       " </td>,\n",
       " <td class=\"listing-modelname pr\">\n",
       " <h3 class=\"crop-after\">\n",
       " <div class=\"listing-text-new word-break val-middle color-red4\">Kia Picanto 1.1 EX</div>\n",
       " </h3>\n",
       " <div class=\"item-overlay overlay-27958563\"></div>\n",
       " <a class=\"link-overlay\" href=\"/ilan/galeriden-satilik-kia-picanto-1-1-ex/orhan-gazi-otomotiv-den-2008-model-kia-picanto-1-1crdi-masrafsiz/27958563\" onclick=\"dataLayerClick('6' , '5')\" target=\"_self\"></a>\n",
       " </td>,\n",
       " <td class=\"listing-modelname pr\">\n",
       " <h3 class=\"crop-after\">\n",
       " <div class=\"listing-text-new word-break val-middle color-black2018\">Audi A6 Sedan 2.0 TDI</div>\n",
       " </h3>\n",
       " <div class=\"item-overlay overlay-27508307\"></div>\n",
       " <a class=\"link-overlay\" href=\"/ilan/galeriden-satilik-audi-a6-sedan-2-0-tdi/tam-dolu-ozel-seri-ici-taba-maun-kaplama-4kltk-isitma-makam-perde-li-audi-a6-sedan-2-0-tdi-2007-mode/27508307\" onclick=\"dataLayerClick('7' , '6')\" target=\"_self\"></a>\n",
       " </td>,\n",
       " <td class=\"listing-modelname pr\">\n",
       " <h3 class=\"crop-after\">\n",
       " <div class=\"listing-text-new word-break val-middle color-black2018\">Opel Corsa 1.4 Twinport Enjoy</div>\n",
       " </h3>\n",
       " <div class=\"item-overlay overlay-28120358\"></div>\n",
       " <a class=\"link-overlay\" href=\"/ilan/galeriden-satilik-opel-corsa-1-4-twinport-enjoy/galeriden-opel-corsa-1-4-twinport-enjoy-2004-model-sakarya/28120358\" onclick=\"dataLayerClick('8' , '7')\" target=\"_self\"></a>\n",
       " </td>,\n",
       " <td class=\"listing-modelname pr\">\n",
       " <h3 class=\"crop-after\">\n",
       " <div class=\"listing-text-new word-break val-middle color-red4\">Fiat Egea 1.3 Multijet Easy Plus</div>\n",
       " </h3>\n",
       " <div class=\"item-overlay overlay-28119841\"></div>\n",
       " <a class=\"link-overlay\" href=\"/ilan/galeriden-satilik-fiat-egea-1-3-multijet-easy-plus/galeriden-fiat-egea-1-3-multijet-easy-plus-2017-model-sanliurfa/28119841\" onclick=\"dataLayerClick('9' , '8')\" target=\"_self\"></a>\n",
       " </td>,\n",
       " <td class=\"listing-modelname pr\">\n",
       " <h3 class=\"crop-after\">\n",
       " <div class=\"listing-text-new word-break val-middle color-black2018\">Renault Clio 1.0 TCe Joy</div>\n",
       " </h3>\n",
       " <div class=\"item-overlay overlay-28198338\"></div>\n",
       " <a class=\"link-overlay\" href=\"/ilan/galeriden-satilik-renault-clio-1-0-tce-joy/metal2-denizli-2022-clio-1-0-tce-joy-x-tronic-hatasiz-20-fat/28198338\" onclick=\"dataLayerClick('10' , '9')\" target=\"_self\"></a>\n",
       " </td>,\n",
       " <td class=\"listing-modelname pr\">\n",
       " <h3 class=\"crop-after\">\n",
       " <div class=\"listing-text-new word-break val-middle color-black2018\">Opel Astra 1.3 CDTI Business</div>\n",
       " </h3>\n",
       " <div class=\"item-overlay overlay-28198098\"></div>\n",
       " <a class=\"link-overlay\" href=\"/ilan/galeriden-satilik-opel-astra-1-3-cdti-business/metal2-denizli-2015-astra-sedan-1-3-dizel-astranin-en-ekonomigi/28198098\" onclick=\"dataLayerClick('11' , '10')\" target=\"_self\"></a>\n",
       " </td>,\n",
       " <td class=\"listing-modelname pr\">\n",
       " <h3 class=\"crop-after\">\n",
       " <div class=\"listing-text-new word-break val-middle color-black2018\">Fiat Linea 1.3 Multijet Pop</div>\n",
       " </h3>\n",
       " <div class=\"item-overlay overlay-28197515\"></div>\n",
       " <a class=\"link-overlay\" href=\"/ilan/galeriden-satilik-fiat-linea-1-3-multijet-pop/korfez-otomotivden-fiat-linea-1-3-multijet-pop-2016-model-bursa/28197515\" onclick=\"dataLayerClick('12' , '11')\" target=\"_self\"></a>\n",
       " </td>,\n",
       " <td class=\"listing-modelname pr\">\n",
       " <h3 class=\"crop-after\">\n",
       " <div class=\"listing-text-new word-break val-middle color-black2018\">Citroen C4 Grand Picasso 1.6 BlueHDi Feel</div>\n",
       " </h3>\n",
       " <div class=\"item-overlay overlay-28119369\"></div>\n",
       " <a class=\"link-overlay\" href=\"/ilan/galeriden-satilik-citroen-c4-grand-picasso-1-6-bluehdi-feel/oscar-otomotiv-2017-cam-tavan-7-kisilik-grand-picasso-7-kisi/28119369\" onclick=\"dataLayerClick('13' , '12')\" target=\"_self\"></a>\n",
       " </td>,\n",
       " <td class=\"listing-modelname pr\">\n",
       " <h3 class=\"crop-after\">\n",
       " <div class=\"listing-text-new word-break val-middle color-black2018\">Fiat Egea 1.3 Multijet Easy</div>\n",
       " </h3>\n",
       " <div class=\"item-overlay overlay-28196666\"></div>\n",
       " <a class=\"link-overlay\" href=\"/ilan/galeriden-satilik-fiat-egea-1-3-multijet-easy/kumru-otomotiv-den-2017-fiat-egea-1-3-multijet-95-hp-easy/28196666\" onclick=\"dataLayerClick('14' , '13')\" target=\"_self\"></a>\n",
       " </td>,\n",
       " <td class=\"listing-modelname pr\">\n",
       " <h3 class=\"crop-after\">\n",
       " <div class=\"listing-text-new word-break val-middle color-black2018\">Hyundai i30 1.6 CRDi Elite</div>\n",
       " </h3>\n",
       " <div class=\"item-overlay overlay-28043668\"></div>\n",
       " <a class=\"link-overlay\" href=\"/ilan/galeriden-satilik-hyundai-i30-1-6-crdi-elite/galeriden-hyundai-i30-1-6-crdi-elite-2015-model-samsun/28043668\" onclick=\"dataLayerClick('15' , '14')\" target=\"_self\"></a>\n",
       " </td>,\n",
       " <td class=\"listing-modelname pr\">\n",
       " <h3 class=\"crop-after\">\n",
       " <div class=\"listing-text-new word-break val-middle color-black2018\">Honda Civic 1.6 i-VTEC Premium</div>\n",
       " </h3>\n",
       " <div class=\"item-overlay overlay-28195829\"></div>\n",
       " <a class=\"link-overlay\" href=\"/ilan/galeriden-satilik-honda-civic-1-6-i-vtec-premium/camlica-otomotiv-den-honda-civic-1-6-i-vtec-premium-2017-model-106-000-km-fume/28195829\" onclick=\"dataLayerClick('16' , '15')\" target=\"_self\"></a>\n",
       " </td>,\n",
       " <td class=\"listing-modelname pr\">\n",
       " <h3 class=\"crop-after\">\n",
       " <div class=\"listing-text-new word-break val-middle color-black2018\">Chevrolet Cruze 1.6 LS</div>\n",
       " </h3>\n",
       " <div class=\"item-overlay overlay-28195497\"></div>\n",
       " <a class=\"link-overlay\" href=\"/ilan/galeriden-satilik-chevrolet-cruze-1-6-ls/galeriden-chevrolet-cruze-1-6-ls-2010-model-ankara/28195497\" onclick=\"dataLayerClick('17' , '16')\" target=\"_self\"></a>\n",
       " </td>,\n",
       " <td class=\"listing-modelname pr\">\n",
       " <h3 class=\"crop-after\">\n",
       " <div class=\"listing-text-new word-break val-middle color-black2018\">Volkswagen VW CC 1.4 TSi</div>\n",
       " </h3>\n",
       " <div class=\"item-overlay overlay-28195186\"></div>\n",
       " <a class=\"link-overlay\" href=\"/ilan/galeriden-satilik-volkswagen-vw-cc-1-4-tsi/2012-cc-1-4-orjinal-degisensiz-otomatik-dusuk-km-24-ay-taksit/28195186\" onclick=\"dataLayerClick('18' , '17')\" target=\"_self\"></a>\n",
       " </td>,\n",
       " <td class=\"listing-modelname pr\">\n",
       " <h3 class=\"crop-after\">\n",
       " <div class=\"listing-text-new word-break val-middle color-black2018\">Renault Symbol 1.5 dCi Joy</div>\n",
       " </h3>\n",
       " <div class=\"item-overlay overlay-28195317\"></div>\n",
       " <a class=\"link-overlay\" href=\"/ilan/galeriden-satilik-renault-symbol-1-5-dci-joy/galeriden-renault-symbol-1-5-dci-joy-2013-model-gaziantep/28195317\" onclick=\"dataLayerClick('19' , '18')\" target=\"_self\"></a>\n",
       " </td>,\n",
       " <td class=\"listing-modelname pr\">\n",
       " <h3 class=\"crop-after\">\n",
       " <div class=\"listing-text-new word-break val-middle color-black2018\">Citroen C5 1.6 e-HDi Confort</div>\n",
       " </h3>\n",
       " <div class=\"item-overlay overlay-28020133\"></div>\n",
       " <a class=\"link-overlay\" href=\"/ilan/galeriden-satilik-citroen-c5-1-6-e-hdi-confort/galeriden-citroen-c5-1-6-e-hdi-confort-2012-model-samsun/28020133\" onclick=\"dataLayerClick('20' , '19')\" target=\"_self\"></a>\n",
       " </td>]"
      ]
     },
     "execution_count": 95,
     "metadata": {},
     "output_type": "execute_result"
    }
   ],
   "source": [
    "arabalar"
   ]
  },
  {
   "cell_type": "code",
   "execution_count": 171,
   "id": "fd6f3fbc-8316-4ea4-803a-447819d522f4",
   "metadata": {},
   "outputs": [],
   "source": [
    "header = {\"User-Agent\":\"Mozilla/5.0 (Windows NT 10.0; Win64; x64) AppleWebKit/537.36 (KHTML, like Gecko) Chrome/133.0.0.0 Safari/537.36\"}\n",
    "liste=[]"
   ]
  },
  {
   "cell_type": "code",
   "execution_count": 172,
   "id": "9333cc0e-2480-4115-b3c4-d2c29f97db55",
   "metadata": {},
   "outputs": [
    {
     "name": "stdout",
     "output_type": "stream",
     "text": [
      "2\n",
      "3\n",
      "4\n",
      "5\n",
      "6\n",
      "7\n",
      "8\n",
      "9\n",
      "10\n",
      "11\n",
      "12\n",
      "13\n",
      "14\n",
      "15\n",
      "16\n",
      "17\n",
      "18\n",
      "19\n",
      "20\n",
      "21\n",
      "22\n",
      "23\n",
      "24\n",
      "25\n",
      "26\n",
      "27\n",
      "28\n",
      "29\n",
      "30\n",
      "31\n",
      "32\n",
      "33\n",
      "34\n",
      "35\n",
      "36\n",
      "37\n",
      "38\n",
      "39\n",
      "40\n",
      "41\n",
      "42\n",
      "43\n",
      "44\n",
      "45\n",
      "46\n",
      "47\n",
      "48\n",
      "49\n"
     ]
    }
   ],
   "source": [
    "url=\"https://www.arabam.com/ikinci-el/otomobil?take=50&page=\"\n",
    "x=2\n",
    "while x<50:\n",
    "    print(x)\n",
    "    url+=str(x)\n",
    "    r= requests.get(url)\n",
    "    soup = BeautifulSoup(r.content,\"lxml\")\n",
    "    arabalar=soup.find_all(\"td\",attrs={\"class\":\"listing-modelname pr\"})\n",
    "    for araba in arabalar:\n",
    "        \n",
    "        araba_linkleri = araba.a.get(\"href\")\n",
    "        link_basi = \"https://www.arabam.com/\"\n",
    "        araba_linkleri= link_basi+araba_linkleri\n",
    "        detay= requests.get(araba_linkleri,headers=header)\n",
    "        detay_soup = BeautifulSoup(detay.content,\"lxml\")\n",
    "        \n",
    "        sehir=detay_soup.find_all(\"div\",attrs={\"class\":\"product-info-container\"})\n",
    "        for s in sehir:\n",
    "            fiyat=s.find_all(\"span\")\n",
    "        il=fiyat[-1].text.split(\",\")[-1].strip()\n",
    "        \n",
    "        fiyat_bilgisi=detay_soup.find_all(\"div\",attrs={\"class\":\"product-price-container\"})\n",
    "        for o in fiyat_bilgisi:\n",
    "            fiyat=o.find(\"div\",attrs={\"class\":\"property-key\"})\n",
    "            price = o.find(\"div\",attrs={\"class\":\"desktop-information-price\"})\n",
    "        fiyat = fiyat.text.strip()  \n",
    "        price = price.text.strip()\n",
    "        \n",
    "        teknik_detaylar = detay_soup.find_all(\"div\",attrs={\"class\":\"product-properties-details linear-gradient\"})\n",
    "        sozluk={}\n",
    "        for teknik in teknik_detaylar:\n",
    "            detaylar = teknik.find_all(\"div\",attrs={\"class\":\"property-item\"})[1:]\n",
    "            for i in detaylar:\n",
    "                key = i.find(\"div\",attrs={\"class\":\"property-key\"}).text.strip()\n",
    "                value = i.find(\"div\",attrs={\"class\":\"property-value\"}).text.strip()\n",
    "                sozluk[key]=value\n",
    "        sozluk[\"il\"]=il\n",
    "        sozluk[fiyat]=price\n",
    "        liste.append(sozluk) \n",
    "    x=x+1"
   ]
  },
  {
   "cell_type": "code",
   "execution_count": 173,
   "id": "614d3ed6-6563-4fca-adaf-baed5ef3e379",
   "metadata": {},
   "outputs": [],
   "source": [
    "df = pd.DataFrame(liste)\n"
   ]
  },
  {
   "cell_type": "code",
   "execution_count": 175,
   "id": "ae187bbe-1116-4b8d-81af-7f6d2720bfd4",
   "metadata": {},
   "outputs": [],
   "source": [
    "df.to_excel(\"arabalar.xlsx\")"
   ]
  },
  {
   "cell_type": "code",
   "execution_count": 176,
   "id": "19af653a-5afd-4c77-9673-9124dc4b4e69",
   "metadata": {},
   "outputs": [],
   "source": [
    "df.to_csv(\"arabalar2.csv\")"
   ]
  },
  {
   "cell_type": "code",
   "execution_count": 177,
   "id": "2d0497f4-05ee-496e-ad66-8e4e164f5506",
   "metadata": {},
   "outputs": [
    {
     "data": {
      "text/plain": [
       "Index(['İlan Tarihi', 'Marka', 'Seri', 'Model', 'Yıl', 'Kilometre',\n",
       "       'Vites Tipi', 'Yakıt Tipi', 'Kasa Tipi', 'Renk', 'Motor Hacmi',\n",
       "       'Motor Gücü', 'Çekiş', 'Araç Durumu', 'Ort. Yakıt Tüketimi',\n",
       "       'Yakıt Deposu', 'Boya-değişen', 'Takasa Uygun', 'Kimden', 'il', 'Fiyat',\n",
       "       'Ağır Hasarlı'],\n",
       "      dtype='object')"
      ]
     },
     "execution_count": 177,
     "metadata": {},
     "output_type": "execute_result"
    }
   ],
   "source": [
    "df.columns"
   ]
  },
  {
   "cell_type": "code",
   "execution_count": 2,
   "id": "dd75dd1d-c6af-4ebd-9465-d4638e9b0f8a",
   "metadata": {},
   "outputs": [
    {
     "ename": "SyntaxError",
     "evalue": "invalid syntax (1143482690.py, line 2)",
     "output_type": "error",
     "traceback": [
      "\u001b[1;36m  Cell \u001b[1;32mIn[2], line 2\u001b[1;36m\u001b[0m\n\u001b[1;33m    pip install kagglehub\u001b[0m\n\u001b[1;37m        ^\u001b[0m\n\u001b[1;31mSyntaxError\u001b[0m\u001b[1;31m:\u001b[0m invalid syntax\n"
     ]
    }
   ],
   "source": [
    "# Install dependencies as needed:\n",
    "pip install kagglehub\n",
    "import kagglehub\n",
    "from kagglehub import KaggleDatasetAdapter\n",
    "\n",
    "# Set the path to the file you'd like to load\n",
    "file_path = \"\"\n",
    "\n",
    "# Load the latest version\n",
    "df = kagglehub.load_dataset(\n",
    "  KaggleDatasetAdapter.PANDAS,\n",
    "  \"yusufaltunbas/cars-features\",\n",
    "  file_path,\n",
    "  # Provide any additional arguments like \n",
    "  # sql_query or pandas_kwargs. See the \n",
    "  # documenation for more information:\n",
    "  # https://github.com/Kaggle/kagglehub/blob/main/README.md#kaggledatasetadapterpandas\n",
    ")\n",
    "\n",
    "print(\"First 5 records:\", df.head())"
   ]
  },
  {
   "cell_type": "code",
   "execution_count": null,
   "id": "f6002066-5ee6-4de1-a9f2-ffa232465781",
   "metadata": {},
   "outputs": [],
   "source": []
  }
 ],
 "metadata": {
  "kernelspec": {
   "display_name": "Python 3 (ipykernel)",
   "language": "python",
   "name": "python3"
  },
  "language_info": {
   "codemirror_mode": {
    "name": "ipython",
    "version": 3
   },
   "file_extension": ".py",
   "mimetype": "text/x-python",
   "name": "python",
   "nbconvert_exporter": "python",
   "pygments_lexer": "ipython3",
   "version": "3.11.7"
  }
 },
 "nbformat": 4,
 "nbformat_minor": 5
}
